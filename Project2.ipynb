{
 "cells": [
  {
   "cell_type": "markdown",
   "metadata": {},
   "source": [
    "Data set chosen: \n",
    "   - Baseball\n",
    "    \n",
    "Questions posed:\n",
    "   - Are salary increases correlated with better batting in the regular season over time?\n",
    "   - What is the best college for baseball in the last 20 years as guaged by the number of unique players with an AllStar appearance?\n"
   ]
  },
  {
   "cell_type": "code",
   "execution_count": 62,
   "metadata": {
    "collapsed": false
   },
   "outputs": [],
   "source": [
    "# First I'll import the libraries that I know I will want to use\n",
    "import pandas as pd\n",
    "import numpy as np\n",
    "import seaborn as sns\n",
    "import matplotlib.pyplot as plt"
   ]
  },
  {
   "cell_type": "markdown",
   "metadata": {},
   "source": [
    "Let's start with tracking salary over time for players as compared to their performance on the field. I'll start with tracking salaries for each player. I want to first see if anything funky is going on with the data."
   ]
  },
  {
   "cell_type": "code",
   "execution_count": 63,
   "metadata": {
    "collapsed": false
   },
   "outputs": [
    {
     "name": "stdout",
     "output_type": "stream",
     "text": [
      "count    2.557500e+04\n",
      "mean     2.008563e+06\n",
      "std      3.315706e+06\n",
      "min      0.000000e+00\n",
      "25%      2.750000e+05\n",
      "50%      5.500000e+05\n",
      "75%      2.250000e+06\n",
      "max      3.300000e+07\n",
      "Name: salary, dtype: float64\n"
     ]
    }
   ],
   "source": [
    "salaries=pd.read_csv('Salaries.csv')\n",
    "print salaries.describe()['salary']\n"
   ]
  },
  {
   "cell_type": "code",
   "execution_count": 64,
   "metadata": {
    "collapsed": false
   },
   "outputs": [
    {
     "name": "stdout",
     "output_type": "stream",
     "text": [
      "count    2.557300e+04\n",
      "mean     2.008720e+06\n",
      "std      3.315788e+06\n",
      "min      1.090000e+04\n",
      "25%      2.750000e+05\n",
      "50%      5.500000e+05\n",
      "75%      2.250000e+06\n",
      "max      3.300000e+07\n",
      "Name: salary, dtype: float64\n"
     ]
    }
   ],
   "source": [
    "# I see there is a minimum salary with 0, that seems odd so I am going to remove them\n",
    "non_zero_salaries=salaries[salaries.salary > 0]\n",
    "print non_zero_salaries.describe()['salary']"
   ]
  },
  {
   "cell_type": "code",
   "execution_count": null,
   "metadata": {
    "collapsed": false
   },
   "outputs": [],
   "source": []
  },
  {
   "cell_type": "code",
   "execution_count": null,
   "metadata": {
    "collapsed": false
   },
   "outputs": [],
   "source": []
  },
  {
   "cell_type": "markdown",
   "metadata": {
    "collapsed": false
   },
   "source": [
    "Now, I'll create a data set that shows me a players batting performance over time. I'll open the data, check it out to see if anything is funky and then group it up."
   ]
  },
  {
   "cell_type": "code",
   "execution_count": 65,
   "metadata": {
    "collapsed": false
   },
   "outputs": [
    {
     "name": "stdout",
     "output_type": "stream",
     "text": [
      "    playerID  yearID  stint teamID lgID   G     AB     R     H    2B  ...   \\\n",
      "0  abercda01    1871      1    TRO  NaN   1    4.0   0.0   0.0   0.0  ...    \n",
      "1   addybo01    1871      1    RC1  NaN  25  118.0  30.0  32.0   6.0  ...    \n",
      "2  allisar01    1871      1    CL1  NaN  29  137.0  28.0  40.0   4.0  ...    \n",
      "3  allisdo01    1871      1    WS3  NaN  27  133.0  28.0  44.0  10.0  ...    \n",
      "4  ansonca01    1871      1    RC1  NaN  25  120.0  29.0  39.0  11.0  ...    \n",
      "\n",
      "    RBI   SB   CS   BB   SO  IBB  HBP  SH  SF  GIDP  \n",
      "0   0.0  0.0  0.0  0.0  0.0  NaN  NaN NaN NaN   NaN  \n",
      "1  13.0  8.0  1.0  4.0  0.0  NaN  NaN NaN NaN   NaN  \n",
      "2  19.0  3.0  1.0  2.0  5.0  NaN  NaN NaN NaN   NaN  \n",
      "3  27.0  1.0  1.0  0.0  2.0  NaN  NaN NaN NaN   NaN  \n",
      "4  16.0  6.0  2.0  2.0  1.0  NaN  NaN NaN NaN   NaN  \n",
      "\n",
      "[5 rows x 22 columns]\n"
     ]
    }
   ],
   "source": [
    "#Let's start by getting the batting regular season files\n",
    "\n",
    "# batting=pd.read_csv('Batting.csv',header=None, \n",
    "#                     names=('playerID','yearID','stint','teamID','lgID','G','AB','R','H','Doubles',\n",
    "#                            'Triples','HR','RBI','SB','CS','BB','SO','IBB','HBP','SH','SF','GIDP'),\n",
    "#                     dtype={'playerID':object,'yearID':int,'stint':int,'teamID':object,'lgID':object,'G':int,\\\n",
    "#                            'AB':int,'R':int,'H':int,'Doubles':int,'Triples':int,'HR':int,'RBI':int,'SB':int,\\\n",
    "#                            'CS':int,'BB':int,'SO':int,'IBB':object,'HBP':object,'SH':object,'SF':object,'GIDP':object})\n",
    "batting=pd.read_csv('Batting.csv')                   \n",
    "# Take a look at a few rows to get a feel\n",
    "print batting.head()"
   ]
  },
  {
   "cell_type": "code",
   "execution_count": 66,
   "metadata": {
    "collapsed": false,
    "scrolled": true
   },
   "outputs": [
    {
     "name": "stdout",
     "output_type": "stream",
     "text": [
      "lgID\n",
      "AA     1890\n",
      "AL    46371\n",
      "FL      470\n",
      "NL    51385\n",
      "PL      147\n",
      "UA      332\n",
      "Name: playerID, dtype: int64\n"
     ]
    }
   ],
   "source": [
    "#First thing I notice is quite a few NaNs that I'll need to be aware of, particularly in the league ID, which seems odd\n",
    "#I want to see just how many rows overalls have NaN for their lgID\n",
    "print batting.groupby(['lgID']).count()['playerID']"
   ]
  },
  {
   "cell_type": "code",
   "execution_count": 67,
   "metadata": {
    "collapsed": false
   },
   "outputs": [
    {
     "name": "stdout",
     "output_type": "stream",
     "text": [
      "count    101332.000000\n",
      "mean         51.400111\n",
      "std          47.145273\n",
      "min           0.000000\n",
      "25%          13.000000\n",
      "50%          34.000000\n",
      "75%          80.250000\n",
      "max         165.000000\n",
      "Name: G, dtype: float64\n"
     ]
    }
   ],
   "source": [
    "#Turns out they look ok, so I'll keep moving along to see if there \n",
    "#are any oddities amongst my columns which reflect performance\n",
    "print batting.describe()['G']"
   ]
  },
  {
   "cell_type": "code",
   "execution_count": 68,
   "metadata": {
    "collapsed": false
   },
   "outputs": [
    {
     "name": "stdout",
     "output_type": "stream",
     "text": [
      "yearID       \n",
      "1871    count     115.000000\n",
      "        mean       19.965217\n",
      "        std        10.852221\n",
      "        min         1.000000\n",
      "        25%        12.000000\n",
      "        50%        25.000000\n",
      "        75%        29.000000\n",
      "        max        33.000000\n",
      "1872    count     156.000000\n",
      "        mean       21.198718\n",
      "        std        17.491166\n",
      "        min         1.000000\n",
      "        25%         7.000000\n",
      "        50%        17.000000\n",
      "        75%        37.000000\n",
      "        max        56.000000\n",
      "1873    count     125.000000\n",
      "        mean       28.824000\n",
      "        std        21.694382\n",
      "        min         1.000000\n",
      "        25%         5.000000\n",
      "        50%        30.000000\n",
      "        75%        51.000000\n",
      "        max        60.000000\n",
      "1874    count     123.000000\n",
      "        mean       34.138211\n",
      "        std        23.981661\n",
      "        min         1.000000\n",
      "        25%         8.000000\n",
      "        50%        40.000000\n",
      "                    ...     \n",
      "2012    std        44.599806\n",
      "        min         1.000000\n",
      "        25%        14.000000\n",
      "        50%        33.000000\n",
      "        75%        71.000000\n",
      "        max       162.000000\n",
      "2013    count    1409.000000\n",
      "        mean       49.161107\n",
      "        std        45.386459\n",
      "        min         1.000000\n",
      "        25%        13.000000\n",
      "        50%        32.000000\n",
      "        75%        72.000000\n",
      "        max       162.000000\n",
      "2014    count    1435.000000\n",
      "        mean       48.476655\n",
      "        std        45.087641\n",
      "        min         1.000000\n",
      "        25%        13.000000\n",
      "        50%        32.000000\n",
      "        75%        71.000000\n",
      "        max       162.000000\n",
      "2015    count    1486.000000\n",
      "        mean       47.465680\n",
      "        std        44.777758\n",
      "        min         1.000000\n",
      "        25%        13.000000\n",
      "        50%        31.000000\n",
      "        75%        68.000000\n",
      "        max       162.000000\n",
      "Name: G, dtype: float64\n"
     ]
    }
   ],
   "source": [
    "#I'll next remove any players with 0 games played\n",
    "non_zero_batting=batting[batting.G > 0]\n",
    "print non_zero_batting.groupby(['yearID']).describe()['G']"
   ]
  },
  {
   "cell_type": "markdown",
   "metadata": {},
   "source": [
    "While I don't know much about baseball, a max games played of 165 seemed high to me\n",
    "After some googling I found out that there are 162 games per season, I do not see a max higher than 162/yr \n",
    "Now, I'm going to start making my definition of \"good performance\":\n",
    "\n",
    "    I want to measure personal performance, so I will only look at hits+doubles+triples+homers+stolen bases in a positive light and I will look at strikeouts + caught stealing in a negative light"
   ]
  },
  {
   "cell_type": "code",
   "execution_count": 69,
   "metadata": {
    "collapsed": false
   },
   "outputs": [
    {
     "name": "stdout",
     "output_type": "stream",
     "text": [
      "0    0.0\n",
      "1    0.0\n",
      "2    5.0\n",
      "3    2.0\n",
      "4    3.0\n",
      "Name: 3B, dtype: float64\n"
     ]
    }
   ],
   "source": [
    "print non_zero_batting.iloc[:, 10].head()"
   ]
  },
  {
   "cell_type": "code",
   "execution_count": 70,
   "metadata": {
    "collapsed": false
   },
   "outputs": [
    {
     "name": "stdout",
     "output_type": "stream",
     "text": [
      "    playerID  yearID  stint teamID lgID   G     AB     R     H    2B  \\\n",
      "0  abercda01    1871      1    TRO  NaN   1    4.0   0.0   0.0   0.0   \n",
      "1   addybo01    1871      1    RC1  NaN  25  118.0  30.0  32.0   6.0   \n",
      "2  allisar01    1871      1    CL1  NaN  29  137.0  28.0  40.0   4.0   \n",
      "3  allisdo01    1871      1    WS3  NaN  27  133.0  28.0  44.0  10.0   \n",
      "4  ansonca01    1871      1    RC1  NaN  25  120.0  29.0  39.0  11.0   \n",
      "\n",
      "      ...        SB   CS   BB   SO  IBB  HBP  SH  SF  GIDP  performance  \n",
      "0     ...       0.0  0.0  0.0  0.0  NaN  NaN NaN NaN   NaN          0.0  \n",
      "1     ...       8.0  1.0  4.0  0.0  NaN  NaN NaN NaN   NaN         37.0  \n",
      "2     ...       3.0  1.0  2.0  5.0  NaN  NaN NaN NaN   NaN         43.0  \n",
      "3     ...       1.0  1.0  0.0  2.0  NaN  NaN NaN NaN   NaN         55.0  \n",
      "4     ...       6.0  2.0  2.0  1.0  NaN  NaN NaN NaN   NaN         50.0  \n",
      "\n",
      "[5 rows x 23 columns]\n"
     ]
    },
    {
     "name": "stderr",
     "output_type": "stream",
     "text": [
      "/anaconda/lib/python2.7/site-packages/ipykernel/__main__.py:4: SettingWithCopyWarning: \n",
      "A value is trying to be set on a copy of a slice from a DataFrame.\n",
      "Try using .loc[row_indexer,col_indexer] = value instead\n",
      "\n",
      "See the caveats in the documentation: http://pandas.pydata.org/pandas-docs/stable/indexing.html#indexing-view-versus-copy\n"
     ]
    }
   ],
   "source": [
    "#I will use iloc for the columns which have numbers in the names\n",
    "\n",
    "\n",
    "non_zero_batting['performance']=pd.Series(( (non_zero_batting.H)+\\\n",
    "                                        (non_zero_batting.iloc[:,9])+(non_zero_batting.iloc[:, 10])\\\n",
    "                                        +(non_zero_batting.HR)-(non_zero_batting.CS)-(non_zero_batting.SO)))\n",
    "print non_zero_batting.head()\n",
    "\n"
   ]
  },
  {
   "cell_type": "markdown",
   "metadata": {
    "collapsed": true
   },
   "source": [
    "This warning is likely due to me filtering out when games were equal to 0 and is a false positive\n",
    "Now I'll standardize performance across each league per year\n",
    "Steps to take:\n",
    "    1. Find average and std dev for each year in each league\n",
    "    2. Take each individuals performance and subtract the average then divide by the std dev"
   ]
  },
  {
   "cell_type": "code",
   "execution_count": 71,
   "metadata": {
    "collapsed": false
   },
   "outputs": [
    {
     "name": "stdout",
     "output_type": "stream",
     "text": [
      "   yearID lgID   avg\n",
      "0    1876   NL   NaN\n",
      "1    1877   NL  20.0\n",
      "2    1878   NL   NaN\n",
      "3    1879   NL   NaN\n",
      "4    1880   NL   NaN\n",
      "   yearID lgID  dev\n",
      "0    1876   NL  NaN\n",
      "1    1877   NL  NaN\n",
      "2    1878   NL  NaN\n",
      "3    1879   NL  NaN\n",
      "4    1880   NL  NaN\n"
     ]
    }
   ],
   "source": [
    "yearly_perf_avg=pd.DataFrame(non_zero_batting.groupby(['yearID','lgID']).mean()['performance']).reset_index()\n",
    "\n",
    "yearly_perf_dev=pd.DataFrame(non_zero_batting.groupby(['yearID','lgID']).std()['performance']).reset_index()\n",
    "\n",
    "yearly_perf_avg.columns=['yearID','lgID','avg']\n",
    "yearly_perf_dev.columns=['yearID','lgID','dev']\n",
    "\n",
    "print yearly_perf_avg.head()\n",
    "print yearly_perf_dev.head()\n"
   ]
  },
  {
   "cell_type": "markdown",
   "metadata": {
    "collapsed": true
   },
   "source": [
    "In printing my averages and devs, I notice  spotty coverage of my created performance column prior to about 2001 in these previewed years. I know there is data from before 2001 just from printing head() earlier in the project, but for simplifying my future, I'll go ahead and chop it down to the last ten years. "
   ]
  },
  {
   "cell_type": "code",
   "execution_count": 72,
   "metadata": {
    "collapsed": false
   },
   "outputs": [
    {
     "name": "stdout",
     "output_type": "stream",
     "text": [
      "   index   playerID  yearID  stint teamID lgID    G     AB      R      H  \\\n",
      "0  85983  abernbr01    2005      1    MIN   AL   24   67.0    5.0   16.0   \n",
      "1  85984  abreubo01    2005      1    PHI   NL  162  588.0  104.0  168.0   \n",
      "2  85985  accarje01    2005      1    SFN   NL   28    2.0    0.0    1.0   \n",
      "3  85986  acevejo01    2005      1    COL   NL   36    8.0    0.0    1.0   \n",
      "4  85987  adamsmi03    2005      1    MIL   NL   13    0.0    0.0    0.0   \n",
      "\n",
      "      ...         SB   CS     BB     SO   IBB  HBP   SH   SF  GIDP  \\\n",
      "0     ...        2.0  0.0    7.0    9.0   0.0  1.0  3.0  1.0   2.0   \n",
      "1     ...       31.0  9.0  117.0  134.0  15.0  6.0  0.0  8.0   7.0   \n",
      "2     ...        0.0  0.0    0.0    0.0   0.0  0.0  0.0  0.0   0.0   \n",
      "3     ...        0.0  0.0    1.0    6.0   0.0  1.0  1.0  0.0   0.0   \n",
      "4     ...        0.0  0.0    0.0    0.0   0.0  0.0  0.0  0.0   0.0   \n",
      "\n",
      "   performance  \n",
      "0          9.0  \n",
      "1         87.0  \n",
      "2          1.0  \n",
      "3         -5.0  \n",
      "4          0.0  \n",
      "\n",
      "[5 rows x 24 columns]\n"
     ]
    }
   ],
   "source": [
    "recent_non_zero_batting=non_zero_batting[non_zero_batting.yearID>2004].reset_index()\n",
    "print recent_non_zero_batting.head()"
   ]
  },
  {
   "cell_type": "code",
   "execution_count": 73,
   "metadata": {
    "collapsed": false
   },
   "outputs": [
    {
     "name": "stdout",
     "output_type": "stream",
     "text": [
      "   index   playerID  yearID  stint teamID lgID    G     AB     R      H  \\\n",
      "0  85983  abernbr01    2005      1    MIN   AL   24   67.0   5.0   16.0   \n",
      "1  85988  adamsru01    2005      1    TOR   AL  139  481.0  68.0  123.0   \n",
      "2  85990  adkinjo01    2005      1    CHA   AL    5    0.0   0.0    0.0   \n",
      "3  85991  affelje01    2005      1    KCA   AL   49    0.0   0.0    0.0   \n",
      "4  85996  allench01    2005      1    TEX   AL   21   53.0   5.0   15.0   \n",
      "\n",
      "     ...       CS    BB    SO  IBB  HBP   SH   SF  GIDP  performance  \\\n",
      "0    ...      0.0   7.0   9.0  0.0  1.0  3.0  1.0   2.0          9.0   \n",
      "1    ...      2.0  50.0  57.0  1.0  3.0  3.0  8.0   5.0        104.0   \n",
      "2    ...      0.0   0.0   0.0  0.0  0.0  0.0  0.0   0.0          0.0   \n",
      "3    ...      0.0   0.0   0.0  0.0  0.0  0.0  0.0   0.0          0.0   \n",
      "4    ...      1.0   2.0  13.0  0.0  0.0  1.0  0.0   2.0          3.0   \n",
      "\n",
      "         avg  \n",
      "0  22.228385  \n",
      "1  22.228385  \n",
      "2  22.228385  \n",
      "3  22.228385  \n",
      "4  22.228385  \n",
      "\n",
      "[5 rows x 25 columns]\n",
      "   index   playerID  yearID  stint teamID lgID    G     AB     R      H  \\\n",
      "0  85983  abernbr01    2005      1    MIN   AL   24   67.0   5.0   16.0   \n",
      "1  85988  adamsru01    2005      1    TOR   AL  139  481.0  68.0  123.0   \n",
      "2  85990  adkinjo01    2005      1    CHA   AL    5    0.0   0.0    0.0   \n",
      "3  85991  affelje01    2005      1    KCA   AL   49    0.0   0.0    0.0   \n",
      "4  85996  allench01    2005      1    TEX   AL   21   53.0   5.0   15.0   \n",
      "\n",
      "     ...        BB    SO  IBB  HBP   SH   SF  GIDP  performance        avg  \\\n",
      "0    ...       7.0   9.0  0.0  1.0  3.0  1.0   2.0          9.0  22.228385   \n",
      "1    ...      50.0  57.0  1.0  3.0  3.0  8.0   5.0        104.0  22.228385   \n",
      "2    ...       0.0   0.0  0.0  0.0  0.0  0.0   0.0          0.0  22.228385   \n",
      "3    ...       0.0   0.0  0.0  0.0  0.0  0.0   0.0          0.0  22.228385   \n",
      "4    ...       2.0  13.0  0.0  0.0  1.0  0.0   2.0          3.0  22.228385   \n",
      "\n",
      "         dev  \n",
      "0  42.365204  \n",
      "1  42.365204  \n",
      "2  42.365204  \n",
      "3  42.365204  \n",
      "4  42.365204  \n",
      "\n",
      "[5 rows x 26 columns]\n"
     ]
    }
   ],
   "source": [
    "#now i'll concatenate the average and stddev\n",
    "\n",
    "recent_non_zero_batting_with_avg=pd.merge(recent_non_zero_batting, yearly_perf_avg, on=['yearID','lgID'])\n",
    "print recent_non_zero_batting_with_avg.head()\n",
    "recent_non_zero_batting_with_avg_dev=pd.merge(recent_non_zero_batting_with_avg, yearly_perf_dev, on=['yearID','lgID'])\n",
    "print recent_non_zero_batting_with_avg_dev.head()"
   ]
  },
  {
   "cell_type": "code",
   "execution_count": 74,
   "metadata": {
    "collapsed": false
   },
   "outputs": [
    {
     "name": "stdout",
     "output_type": "stream",
     "text": [
      "   index   playerID  yearID  stint teamID lgID    G     AB     R      H  \\\n",
      "0  85983  abernbr01    2005      1    MIN   AL   24   67.0   5.0   16.0   \n",
      "1  85988  adamsru01    2005      1    TOR   AL  139  481.0  68.0  123.0   \n",
      "2  85990  adkinjo01    2005      1    CHA   AL    5    0.0   0.0    0.0   \n",
      "3  85991  affelje01    2005      1    KCA   AL   49    0.0   0.0    0.0   \n",
      "4  85996  allench01    2005      1    TEX   AL   21   53.0   5.0   15.0   \n",
      "\n",
      "     ...       SO  IBB  HBP   SH   SF  GIDP  performance        avg  \\\n",
      "0    ...      9.0  0.0  1.0  3.0  1.0   2.0          9.0  22.228385   \n",
      "1    ...     57.0  1.0  3.0  3.0  8.0   5.0        104.0  22.228385   \n",
      "2    ...      0.0  0.0  0.0  0.0  0.0   0.0          0.0  22.228385   \n",
      "3    ...      0.0  0.0  0.0  0.0  0.0   0.0          0.0  22.228385   \n",
      "4    ...     13.0  0.0  0.0  1.0  0.0   2.0          3.0  22.228385   \n",
      "\n",
      "         dev   stdperf  \n",
      "0  42.365204 -0.312246  \n",
      "1  42.365204  1.930160  \n",
      "2  42.365204 -0.524685  \n",
      "3  42.365204 -0.524685  \n",
      "4  42.365204 -0.453872  \n",
      "\n",
      "[5 rows x 27 columns]\n"
     ]
    }
   ],
   "source": [
    "#I now want to standardize each performance\n",
    "recent_non_zero_batting_with_avg_dev['stdperf']=pd.Series((recent_non_zero_batting_with_avg_dev.performance-\\\n",
    "                                                              recent_non_zero_batting_with_avg_dev.avg)/\\\n",
    "                                                               recent_non_zero_batting_with_avg_dev.dev)\n",
    "print recent_non_zero_batting_with_avg_dev.head()"
   ]
  },
  {
   "cell_type": "code",
   "execution_count": 75,
   "metadata": {
    "collapsed": false
   },
   "outputs": [
    {
     "name": "stdout",
     "output_type": "stream",
     "text": [
      "   index   playerID  yearID  stint teamID lgID    G     AB     R      H  \\\n",
      "0  85988  adamsru01    2005      1    TOR   AL  139  481.0  68.0  123.0   \n",
      "1  85991  affelje01    2005      1    KCA   AL   49    0.0   0.0    0.0   \n",
      "2  85996  allench01    2005      1    TEX   AL   21   53.0   5.0   15.0   \n",
      "3  85998  almanca01    2005      1    TEX   AL    6    0.0   0.0    0.0   \n",
      "4  85999  alomasa02    2005      1    TEX   AL   46  128.0  11.0   35.0   \n",
      "\n",
      "    ...     IBB  HBP   SH   SF  GIDP  performance        avg        dev  \\\n",
      "0   ...     1.0  3.0  3.0  8.0   5.0        104.0  22.228385  42.365204   \n",
      "1   ...     0.0  0.0  0.0  0.0   0.0          0.0  22.228385  42.365204   \n",
      "2   ...     0.0  0.0  1.0  0.0   2.0          3.0  22.228385  42.365204   \n",
      "3   ...     0.0  0.0  0.0  0.0   0.0          0.0  22.228385  42.365204   \n",
      "4   ...     0.0  1.0  3.0  0.0   3.0         30.0  22.228385  42.365204   \n",
      "\n",
      "    stdperf   salary  \n",
      "0  1.930160   316000  \n",
      "1 -0.524685   950000  \n",
      "2 -0.453872   380000  \n",
      "3 -0.524685  1100000  \n",
      "4  0.183443   550000  \n",
      "\n",
      "[5 rows x 28 columns]\n"
     ]
    }
   ],
   "source": [
    "#Now I'll join the salary and performance data frames\n",
    "\n",
    "perf_and_salary=pd.merge(recent_non_zero_batting_with_avg_dev,non_zero_salaries,\\\n",
    "                        on=['yearID','lgID','playerID','teamID'])\n",
    "\n",
    "print perf_and_salary.head()"
   ]
  },
  {
   "cell_type": "code",
   "execution_count": 122,
   "metadata": {
    "collapsed": false
   },
   "outputs": [
    {
     "name": "stdout",
     "output_type": "stream",
     "text": [
      "    playerID  yearID   stdperf   salary\n",
      "0  adamsru01    2005  1.930160   316000\n",
      "1  affelje01    2005 -0.524685   950000\n",
      "2  allench01    2005 -0.453872   380000\n",
      "3  almanca01    2005 -0.524685  1100000\n",
      "4  alomasa02    2005  0.183443   550000\n"
     ]
    }
   ],
   "source": [
    "#I want get ride of all the columns I don't care about, including team and league as I'm only interested in salary vs performance over team\n",
    "only_perf_and_salary=perf_and_salary.drop(['index','stint','G','AB','R','H','2B','3B','HR','RBI','SB',\\\n",
    "                                           'CS','BB','SO','IBB','HBP','SH','SF','GIDP','performance','avg','dev','teamID','lgID'],1)\n",
    "\n",
    "print only_perf_and_salary.head()"
   ]
  },
  {
   "cell_type": "code",
   "execution_count": 127,
   "metadata": {
    "collapsed": false
   },
   "outputs": [
    {
     "name": "stdout",
     "output_type": "stream",
     "text": [
      "<pandas.core.groupby.DataFrameGroupBy object at 0x11589f4d0>\n"
     ]
    }
   ],
   "source": [
    " only_perf_and_salary.sort_values(by='yearID',ascending=False).groupby('playerID')"
   ]
  },
  {
   "cell_type": "markdown",
   "metadata": {},
   "source": [
    "Sources:\n",
    "\n",
    "http://stackoverflow.com/questions/20995196/python-pandas-counting-and-summing-specific-conditions\n",
    "http://pandas.pydata.org/pandas-docs/stable/generated/pandas.concat.html\n",
    "http://pandas.pydata.org/pandas-docs/version/0.18.1/visualization.html\n",
    "http://stackoverflow.com/questions/10373660/converting-a-pandas-groupby-object-to-dataframe\n",
    "https://en.wikipedia.org/wiki/Major_League_Baseball_schedule\n",
    "http://stackoverflow.com/questions/15891038/pandas-change-data-type-of-columns\n",
    "http://stackoverflow.com/questions/21231834/creating-a-pandas-dataframe-from-columns-of-other-dataframes-with-similar-indexe\n",
    "http://stackoverflow.com/questions/13411544/delete-column-from-pandas-dataframe\n",
    "http://stackoverflow.com/questions/12096252/use-a-list-of-values-to-select-rows-from-a-pandas-dataframe"
   ]
  }
 ],
 "metadata": {
  "anaconda-cloud": {},
  "kernelspec": {
   "display_name": "Python [conda root]",
   "language": "python",
   "name": "conda-root-py"
  },
  "language_info": {
   "codemirror_mode": {
    "name": "ipython",
    "version": 2
   },
   "file_extension": ".py",
   "mimetype": "text/x-python",
   "name": "python",
   "nbconvert_exporter": "python",
   "pygments_lexer": "ipython2",
   "version": "2.7.12"
  }
 },
 "nbformat": 4,
 "nbformat_minor": 1
}
